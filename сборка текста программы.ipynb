{
 "cells": [
  {
   "cell_type": "code",
   "execution_count": 1,
   "metadata": {},
   "outputs": [],
   "source": [
    "import codecs\n",
    "import os\n",
    "from docx import Document"
   ]
  },
  {
   "cell_type": "code",
   "execution_count": 70,
   "metadata": {},
   "outputs": [],
   "source": [
    "filename = 'result'"
   ]
  },
  {
   "cell_type": "code",
   "execution_count": 71,
   "metadata": {},
   "outputs": [],
   "source": [
    "folder_name = 'CODE'\n",
    "folder_name_len = len(folder_name)"
   ]
  },
  {
   "cell_type": "code",
   "execution_count": 72,
   "metadata": {},
   "outputs": [],
   "source": [
    "sample_file = 'template.docx'"
   ]
  },
  {
   "cell_type": "code",
   "execution_count": 5,
   "metadata": {},
   "outputs": [],
   "source": [
    "def check(string):\n",
    "    result = False\n",
    "    if string[-3:] == '.js':\n",
    "        result = True\n",
    "    if string[-4:] == '.vue':\n",
    "        result = True\n",
    "    if string[-5:] == '.json':\n",
    "        result = True\n",
    "    if string[-4:] == '.css':\n",
    "        result = True\n",
    "    if string[-4:] == '.txt':\n",
    "        result = True\n",
    "    if string[-5:] == '.scss':\n",
    "        result = True\n",
    "    if string[-4:] == '.xml':\n",
    "        result = True\n",
    "    if string[-4:] == '.yml':\n",
    "        result = True\n",
    "    if string[-7:] == '.gradle':\n",
    "        result = True\n",
    "    if string[-5:] == '.java':\n",
    "        result = True\n",
    "    if string[-4:] == '.bat':\n",
    "        result = True\n",
    "    if string[-5:] == '.html':\n",
    "        result = True\n",
    "    if string[-3:] == '.md':\n",
    "        result = True\n",
    "    if string[-4:] == '.sql':\n",
    "        result = True\n",
    "    return result"
   ]
  },
  {
   "cell_type": "code",
   "execution_count": 60,
   "metadata": {},
   "outputs": [],
   "source": [
    "def read_file(filename):\n",
    "#с кодеками\n",
    "    f = codecs.open(filename, \"r\", \"utf_8_sig\" )\n",
    "    file = []\n",
    "    for line in f:\n",
    "        file.append(line)\n",
    "    file = ''.join(file)\n",
    "    f.close()\n",
    "    return file"
   ]
  },
  {
   "cell_type": "code",
   "execution_count": 73,
   "metadata": {},
   "outputs": [],
   "source": [
    "folder = []\n",
    "for i in os.walk(folder_name):\n",
    "    folder.append(i)\n",
    "paths = []\n",
    "for address, dirs, files in folder:\n",
    "    for file in files:\n",
    "        if check(file):\n",
    "            paths.append(address+'\\\\'+file)"
   ]
  },
  {
   "cell_type": "code",
   "execution_count": 74,
   "metadata": {
    "scrolled": false
   },
   "outputs": [],
   "source": [
    "total_code_file = []\n",
    "for i,path in enumerate(paths):\n",
    "    \n",
    "    if i == 0:\n",
    "        catalog = path[folder_name_len:].split('\\\\')[1]\n",
    "        total_code_file.append('Каталог '+catalog+'\\n')\n",
    "    if path[folder_name_len:].split('\\\\')[1] != catalog:\n",
    "        catalog = path[folder_name_len:].split('\\\\')[1]\n",
    "        total_code_file.append('Каталог '+catalog+'\\n')\n",
    "        \n",
    "    total_code_file.append('Файл '+path[folder_name_len:]+'\\n')\n",
    "    total_code_file.append(read_file(path))\n",
    "    total_code_file += '\\n'"
   ]
  },
  {
   "cell_type": "code",
   "execution_count": 18,
   "metadata": {},
   "outputs": [],
   "source": [
    "#f = codecs.open('code.txt', 'w',\"utf_8_sig\")\n",
    "#for line in total_code_file:\n",
    "#    f.write(line)\n",
    "#f.close()"
   ]
  },
  {
   "cell_type": "code",
   "execution_count": 75,
   "metadata": {},
   "outputs": [],
   "source": [
    "doc = Document(sample_file)\n",
    "for p in doc.paragraphs:\n",
    "    if '<КОД ПРОГРАММЫ>' in p.text:\n",
    "        p.text = ''\n",
    "        for line in total_code_file:\n",
    "            if line.rstrip() > '' and line.split()[0] == 'Каталог':\n",
    "                p.insert_paragraph_before(line.rstrip(), 'ЗАГ_2')\n",
    "            elif line.rstrip() > '' and line.split()[0] == 'Файл':\n",
    "                p.insert_paragraph_before(line.rstrip(), 'ЗАГ_3')\n",
    "            else:\n",
    "                p.insert_paragraph_before(line.rstrip(), 'КОД')\n",
    "doc.save(filename+'.docx')"
   ]
  },
  {
   "cell_type": "code",
   "execution_count": null,
   "metadata": {},
   "outputs": [],
   "source": [
    "import sys\n",
    "import os\n",
    "import comtypes.client\n",
    "\n",
    "wdFormatPDF = 17\n",
    "\n",
    "in_file = os.path.abspath(filename+'.docx')\n",
    "out_file = os.path.abspath(filename+'.pdf')\n",
    "\n",
    "word = comtypes.client.CreateObject('Word.Application')\n",
    "doc = word.Documents.Open(in_file)\n",
    "doc.SaveAs(out_file, FileFormat=wdFormatPDF)\n",
    "doc.Close()\n",
    "word.Quit()"
   ]
  }
 ],
 "metadata": {
  "kernelspec": {
   "display_name": "Python 3",
   "language": "python",
   "name": "python3"
  },
  "language_info": {
   "codemirror_mode": {
    "name": "ipython",
    "version": 3
   },
   "file_extension": ".py",
   "mimetype": "text/x-python",
   "name": "python",
   "nbconvert_exporter": "python",
   "pygments_lexer": "ipython3",
   "version": "3.8.3"
  }
 },
 "nbformat": 4,
 "nbformat_minor": 4
}
